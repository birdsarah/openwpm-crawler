{
 "cells": [
  {
   "cell_type": "code",
   "execution_count": 1,
   "metadata": {},
   "outputs": [],
   "source": [
    "import json\n",
    "import pandas as pd\n",
    "import pyarrow as pa\n",
    "import pyarrow.parquet as pq\n",
    "import re\n",
    "import s3fs\n",
    "import six\n",
    "from pyarrow.filesystem import S3FSWrapper"
   ]
  },
  {
   "cell_type": "code",
   "execution_count": 2,
   "metadata": {},
   "outputs": [],
   "source": [
    "# import some analysis utilities from https://github.com/mozilla/openwpm-utils\n",
    "import sys\n",
    "import utils.openwpm_utils.domain as du\n",
    "import utils.openwpm_utils.analysis as au"
   ]
  },
  {
   "cell_type": "code",
   "execution_count": 3,
   "metadata": {},
   "outputs": [],
   "source": [
    "# for data stored in S3\n",
    "BUCKET = 'openwpm-crawls'\n",
    "CRAWL_DIR = 'openwpm-crawl'\n",
    "BUCKET_URI = '%s/%s/visits/%%s' % (BUCKET, CRAWL_DIR)\n",
    "fs = s3fs.S3FileSystem()\n",
    "\n",
    "def dataset(table_name):\n",
    "    return pq.ParquetDataset(\n",
    "        BUCKET_URI % table_name,\n",
    "        filesystem=fs,\n",
    "        metadata_nthreads=4\n",
    "    )"
   ]
  },
  {
   "cell_type": "code",
   "execution_count": 4,
   "metadata": {},
   "outputs": [],
   "source": [
    "# or for local data\n",
    "CRAWL_DIR = 'openwpm-crawl'\n",
    "LOCAL_BUCKET_DATA_URI = '../deployment/local/local-crawl-results/data/%s/visits/%%s' % (CRAWL_DIR)\n",
    "\n",
    "def dataset(table_name):\n",
    "    return pq.ParquetDataset(\n",
    "        LOCAL_BUCKET_DATA_URI % table_name,\n",
    "    )"
   ]
  },
  {
   "cell_type": "markdown",
   "metadata": {},
   "source": [
    "# HTTP Requests"
   ]
  },
  {
   "cell_type": "code",
   "execution_count": 5,
   "metadata": {},
   "outputs": [],
   "source": [
    "# Load the data\n",
    "table_name = 'http_requests'\n",
    "reqs = dataset(table_name).read_pandas().to_pandas()"
   ]
  },
  {
   "cell_type": "markdown",
   "metadata": {},
   "source": [
    "### Add some additional columns to help with analysis"
   ]
  },
  {
   "cell_type": "code",
   "execution_count": 6,
   "metadata": {},
   "outputs": [],
   "source": [
    "# Add the public suffix + 1 of a bunch of the URL columns\n",
    "reqs['url_ps1'] = reqs['url'].apply(du.get_ps_plus_1)\n",
    "reqs['top_ps1'] = reqs['top_level_url'].apply(lambda x: du.get_ps_plus_1(x) if x is not None else None)\n",
    "reqs['loading_ps1'] = reqs['loading_href'].apply(lambda x: du.get_ps_plus_1(x) if x is not None else None)"
   ]
  },
  {
   "cell_type": "code",
   "execution_count": 7,
   "metadata": {},
   "outputs": [],
   "source": [
    "# Parse some info out of the call stack\n",
    "reqs['stack_scripts'] = reqs['req_call_stack'].apply(au.get_script_urls_from_call_stack_as_set)\n",
    "reqs['stack_ps1s'] = reqs['stack_scripts'].apply(lambda x: set([du.get_ps_plus_1(y) for y in x]))"
   ]
  },
  {
   "cell_type": "code",
   "execution_count": 8,
   "metadata": {},
   "outputs": [],
   "source": [
    "total_sites = reqs['top_level_url'].nunique()"
   ]
  },
  {
   "cell_type": "markdown",
   "metadata": {},
   "source": [
    "### How many sites is doubleclick.net loaded on?"
   ]
  },
  {
   "cell_type": "code",
   "execution_count": 9,
   "metadata": {},
   "outputs": [
    {
     "data": {
      "text/plain": [
       "0.0"
      ]
     },
     "execution_count": 9,
     "metadata": {},
     "output_type": "execute_result"
    }
   ],
   "source": [
    "dc_reqs = reqs[reqs['url_ps1'] == 'doubleclick.net']\n",
    "dc_reqs.top_level_url.nunique() / float(total_sites)"
   ]
  },
  {
   "cell_type": "code",
   "execution_count": 10,
   "metadata": {},
   "outputs": [
    {
     "data": {
      "text/plain": [
       "0.2"
      ]
     },
     "execution_count": 10,
     "metadata": {},
     "output_type": "execute_result"
    }
   ],
   "source": [
    "ga_reqs = reqs[reqs['url_ps1'] == 'google-analytics.com']\n",
    "ga_reqs.top_level_url.nunique() / float(total_sites)"
   ]
  },
  {
   "cell_type": "markdown",
   "metadata": {},
   "source": [
    "### What domains does doubleclick.net load other resources from?"
   ]
  },
  {
   "cell_type": "code",
   "execution_count": 11,
   "metadata": {},
   "outputs": [],
   "source": [
    "reqs_with_call_stacks = reqs[\n",
    "  reqs.req_call_stack.notnull()\n",
    "]"
   ]
  },
  {
   "cell_type": "code",
   "execution_count": 12,
   "metadata": {},
   "outputs": [
    {
     "data": {
      "text/plain": [
       "Series([], Name: req_call_stack, dtype: object)"
      ]
     },
     "execution_count": 12,
     "metadata": {},
     "output_type": "execute_result"
    }
   ],
   "source": [
    "reqs_with_call_stacks['req_call_stack']"
   ]
  },
  {
   "cell_type": "code",
   "execution_count": 13,
   "metadata": {
    "scrolled": true
   },
   "outputs": [
    {
     "data": {
      "text/plain": [
       "Series([], Name: stack_ps1s, dtype: object)"
      ]
     },
     "execution_count": 13,
     "metadata": {},
     "output_type": "execute_result"
    }
   ],
   "source": [
    "reqs_with_call_stacks['stack_ps1s']"
   ]
  },
  {
   "cell_type": "code",
   "execution_count": 14,
   "metadata": {
    "scrolled": true
   },
   "outputs": [
    {
     "data": {
      "text/html": [
       "<div>\n",
       "<style scoped>\n",
       "    .dataframe tbody tr th:only-of-type {\n",
       "        vertical-align: middle;\n",
       "    }\n",
       "\n",
       "    .dataframe tbody tr th {\n",
       "        vertical-align: top;\n",
       "    }\n",
       "\n",
       "    .dataframe thead th {\n",
       "        text-align: right;\n",
       "    }\n",
       "</style>\n",
       "<table border=\"1\" class=\"dataframe\">\n",
       "  <thead>\n",
       "    <tr style=\"text-align: right;\">\n",
       "      <th></th>\n",
       "    </tr>\n",
       "  </thead>\n",
       "  <tbody>\n",
       "  </tbody>\n",
       "</table>\n",
       "</div>"
      ],
      "text/plain": [
       "Empty DataFrame\n",
       "Columns: []\n",
       "Index: []"
      ]
     },
     "execution_count": 14,
     "metadata": {},
     "output_type": "execute_result"
    }
   ],
   "source": [
    "reqs_with_call_stacks[\n",
    "    reqs_with_call_stacks.stack_ps1s.apply(lambda x: 'doubleclick.net' in x)\n",
    "]\n",
    "# TODO: only groupby if there are any matching requests\n",
    "# .groupby('url_ps1').top_level_url.count().sort_values(ascending=False)"
   ]
  },
  {
   "cell_type": "markdown",
   "metadata": {},
   "source": [
    "# Javascript Calls"
   ]
  },
  {
   "cell_type": "code",
   "execution_count": 15,
   "metadata": {},
   "outputs": [],
   "source": [
    "# Load the data\n",
    "table_name = 'javascript'\n",
    "js = dataset(table_name).read_pandas().to_pandas()"
   ]
  },
  {
   "cell_type": "code",
   "execution_count": 16,
   "metadata": {},
   "outputs": [],
   "source": [
    "# Add the public suffix + 1 of a bunch of the URL columns\n",
    "js['script_ps1'] = js['script_url'].apply(lambda x: du.get_ps_plus_1(x) if x is not None else None)\n",
    "js['top_ps1'] = js['top_level_url'].apply(lambda x: du.get_ps_plus_1(x) if x is not None else None)\n",
    "js['document_ps1'] = js['document_url'].apply(lambda x: du.get_ps_plus_1(x) if x is not None else None)"
   ]
  },
  {
   "cell_type": "markdown",
   "metadata": {},
   "source": [
    "#### Canvas font fingerprinting"
   ]
  },
  {
   "cell_type": "code",
   "execution_count": 17,
   "metadata": {},
   "outputs": [],
   "source": [
    "font_shorthand = re.compile(r\"^\\s*(?=(?:(?:[-a-z]+\\s*){0,2}(italic|oblique))?)(?=(?:(?:[-a-z]+\\s*){0,2}(small-caps))?)(?=(?:(?:[-a-z]+\\s*){0,2}(bold(?:er)?|lighter|[1-9]00))?)(?:(?:normal|\\1|\\2|\\3)\\s*){0,3}((?:xx?-)?(?:small|large)|medium|smaller|larger|[.\\d]+(?:\\%|in|[cem]m|ex|p[ctx]))(?:\\s*\\/\\s*(normal|[.\\d]+(?:\\%|in|[cem]m|ex|p[ctx])))?\\s*([-_\\{\\}\\(\\)\\&!\\',\\*\\.\\\"\\sa-zA-Z0-9]+?)\\s*$\")"
   ]
  },
  {
   "cell_type": "code",
   "execution_count": 18,
   "metadata": {},
   "outputs": [
    {
     "data": {
      "text/html": [
       "<div>\n",
       "<style scoped>\n",
       "    .dataframe tbody tr th:only-of-type {\n",
       "        vertical-align: middle;\n",
       "    }\n",
       "\n",
       "    .dataframe tbody tr th {\n",
       "        vertical-align: top;\n",
       "    }\n",
       "\n",
       "    .dataframe thead th {\n",
       "        text-align: right;\n",
       "    }\n",
       "</style>\n",
       "<table border=\"1\" class=\"dataframe\">\n",
       "  <thead>\n",
       "    <tr style=\"text-align: right;\">\n",
       "      <th></th>\n",
       "      <th>incognito</th>\n",
       "      <th>crawl_id</th>\n",
       "      <th>visit_id</th>\n",
       "      <th>extension_session_uuid</th>\n",
       "      <th>event_ordinal</th>\n",
       "      <th>page_scoped_event_ordinal</th>\n",
       "      <th>window_id</th>\n",
       "      <th>tab_id</th>\n",
       "      <th>frame_id</th>\n",
       "      <th>script_url</th>\n",
       "      <th>...</th>\n",
       "      <th>call_stack</th>\n",
       "      <th>symbol</th>\n",
       "      <th>operation</th>\n",
       "      <th>value</th>\n",
       "      <th>arguments</th>\n",
       "      <th>time_stamp</th>\n",
       "      <th>instance_id</th>\n",
       "      <th>script_ps1</th>\n",
       "      <th>top_ps1</th>\n",
       "      <th>document_ps1</th>\n",
       "    </tr>\n",
       "  </thead>\n",
       "  <tbody>\n",
       "    <tr>\n",
       "      <th>4</th>\n",
       "      <td>0</td>\n",
       "      <td>-388674837</td>\n",
       "      <td>3778318194027651</td>\n",
       "      <td>6e690347-1eef-428b-8901-bb8f61030139</td>\n",
       "      <td>9</td>\n",
       "      <td>4</td>\n",
       "      <td>1</td>\n",
       "      <td>1</td>\n",
       "      <td>0</td>\n",
       "      <td>https://citp.princeton.edu/</td>\n",
       "      <td>...</td>\n",
       "      <td></td>\n",
       "      <td>CanvasRenderingContext2D.textBaseline</td>\n",
       "      <td>set</td>\n",
       "      <td>top</td>\n",
       "      <td>None</td>\n",
       "      <td>2019-07-15T05:09:29.729Z</td>\n",
       "      <td>-2022130726</td>\n",
       "      <td>princeton.edu</td>\n",
       "      <td>princeton.edu</td>\n",
       "      <td>princeton.edu</td>\n",
       "    </tr>\n",
       "    <tr>\n",
       "      <th>5</th>\n",
       "      <td>0</td>\n",
       "      <td>-388674837</td>\n",
       "      <td>3778318194027651</td>\n",
       "      <td>6e690347-1eef-428b-8901-bb8f61030139</td>\n",
       "      <td>10</td>\n",
       "      <td>5</td>\n",
       "      <td>1</td>\n",
       "      <td>1</td>\n",
       "      <td>0</td>\n",
       "      <td>https://citp.princeton.edu/</td>\n",
       "      <td>...</td>\n",
       "      <td></td>\n",
       "      <td>CanvasRenderingContext2D.font</td>\n",
       "      <td>set</td>\n",
       "      <td>600 32px Arial</td>\n",
       "      <td>None</td>\n",
       "      <td>2019-07-15T05:09:29.730Z</td>\n",
       "      <td>-2022130726</td>\n",
       "      <td>princeton.edu</td>\n",
       "      <td>princeton.edu</td>\n",
       "      <td>princeton.edu</td>\n",
       "    </tr>\n",
       "    <tr>\n",
       "      <th>8</th>\n",
       "      <td>0</td>\n",
       "      <td>-388674837</td>\n",
       "      <td>3778318194027651</td>\n",
       "      <td>6e690347-1eef-428b-8901-bb8f61030139</td>\n",
       "      <td>13</td>\n",
       "      <td>8</td>\n",
       "      <td>1</td>\n",
       "      <td>1</td>\n",
       "      <td>0</td>\n",
       "      <td>https://citp.princeton.edu/</td>\n",
       "      <td>...</td>\n",
       "      <td></td>\n",
       "      <td>CanvasRenderingContext2D.fillText</td>\n",
       "      <td>call</td>\n",
       "      <td></td>\n",
       "      <td>[\"🇺🇳\",0,0]</td>\n",
       "      <td>2019-07-15T05:09:29.733Z</td>\n",
       "      <td>-2022130726</td>\n",
       "      <td>princeton.edu</td>\n",
       "      <td>princeton.edu</td>\n",
       "      <td>princeton.edu</td>\n",
       "    </tr>\n",
       "    <tr>\n",
       "      <th>12</th>\n",
       "      <td>0</td>\n",
       "      <td>-388674837</td>\n",
       "      <td>3778318194027651</td>\n",
       "      <td>6e690347-1eef-428b-8901-bb8f61030139</td>\n",
       "      <td>17</td>\n",
       "      <td>12</td>\n",
       "      <td>1</td>\n",
       "      <td>1</td>\n",
       "      <td>0</td>\n",
       "      <td>https://citp.princeton.edu/</td>\n",
       "      <td>...</td>\n",
       "      <td></td>\n",
       "      <td>CanvasRenderingContext2D.fillText</td>\n",
       "      <td>call</td>\n",
       "      <td></td>\n",
       "      <td>[\"🇺​🇳\",0,0]</td>\n",
       "      <td>2019-07-15T05:09:29.739Z</td>\n",
       "      <td>-2022130726</td>\n",
       "      <td>princeton.edu</td>\n",
       "      <td>princeton.edu</td>\n",
       "      <td>princeton.edu</td>\n",
       "    </tr>\n",
       "    <tr>\n",
       "      <th>16</th>\n",
       "      <td>0</td>\n",
       "      <td>-388674837</td>\n",
       "      <td>3778318194027651</td>\n",
       "      <td>6e690347-1eef-428b-8901-bb8f61030139</td>\n",
       "      <td>21</td>\n",
       "      <td>16</td>\n",
       "      <td>1</td>\n",
       "      <td>1</td>\n",
       "      <td>0</td>\n",
       "      <td>https://citp.princeton.edu/</td>\n",
       "      <td>...</td>\n",
       "      <td></td>\n",
       "      <td>CanvasRenderingContext2D.fillText</td>\n",
       "      <td>call</td>\n",
       "      <td></td>\n",
       "      <td>[\"🏴󠁧󠁢󠁥󠁮󠁧󠁿\",0,0]</td>\n",
       "      <td>2019-07-15T05:09:29.741Z</td>\n",
       "      <td>-2022130726</td>\n",
       "      <td>princeton.edu</td>\n",
       "      <td>princeton.edu</td>\n",
       "      <td>princeton.edu</td>\n",
       "    </tr>\n",
       "    <tr>\n",
       "      <th>20</th>\n",
       "      <td>0</td>\n",
       "      <td>-388674837</td>\n",
       "      <td>3778318194027651</td>\n",
       "      <td>6e690347-1eef-428b-8901-bb8f61030139</td>\n",
       "      <td>25</td>\n",
       "      <td>20</td>\n",
       "      <td>1</td>\n",
       "      <td>1</td>\n",
       "      <td>0</td>\n",
       "      <td>https://citp.princeton.edu/</td>\n",
       "      <td>...</td>\n",
       "      <td></td>\n",
       "      <td>CanvasRenderingContext2D.fillText</td>\n",
       "      <td>call</td>\n",
       "      <td></td>\n",
       "      <td>[\"🏴​󠁧​󠁢​󠁥​󠁮​󠁧​󠁿\",0,0]</td>\n",
       "      <td>2019-07-15T05:09:29.742Z</td>\n",
       "      <td>-2022130726</td>\n",
       "      <td>princeton.edu</td>\n",
       "      <td>princeton.edu</td>\n",
       "      <td>princeton.edu</td>\n",
       "    </tr>\n",
       "    <tr>\n",
       "      <th>22</th>\n",
       "      <td>0</td>\n",
       "      <td>-388674837</td>\n",
       "      <td>3778318194027651</td>\n",
       "      <td>6e690347-1eef-428b-8901-bb8f61030139</td>\n",
       "      <td>27</td>\n",
       "      <td>22</td>\n",
       "      <td>1</td>\n",
       "      <td>1</td>\n",
       "      <td>0</td>\n",
       "      <td>https://citp.princeton.edu/</td>\n",
       "      <td>...</td>\n",
       "      <td></td>\n",
       "      <td>CanvasRenderingContext2D.textBaseline</td>\n",
       "      <td>set</td>\n",
       "      <td>top</td>\n",
       "      <td>None</td>\n",
       "      <td>2019-07-15T05:09:29.745Z</td>\n",
       "      <td>-2022130726</td>\n",
       "      <td>princeton.edu</td>\n",
       "      <td>princeton.edu</td>\n",
       "      <td>princeton.edu</td>\n",
       "    </tr>\n",
       "    <tr>\n",
       "      <th>23</th>\n",
       "      <td>0</td>\n",
       "      <td>-388674837</td>\n",
       "      <td>3778318194027651</td>\n",
       "      <td>6e690347-1eef-428b-8901-bb8f61030139</td>\n",
       "      <td>28</td>\n",
       "      <td>23</td>\n",
       "      <td>1</td>\n",
       "      <td>1</td>\n",
       "      <td>0</td>\n",
       "      <td>https://citp.princeton.edu/</td>\n",
       "      <td>...</td>\n",
       "      <td></td>\n",
       "      <td>CanvasRenderingContext2D.font</td>\n",
       "      <td>set</td>\n",
       "      <td>600 32px Arial</td>\n",
       "      <td>None</td>\n",
       "      <td>2019-07-15T05:09:29.746Z</td>\n",
       "      <td>-2022130726</td>\n",
       "      <td>princeton.edu</td>\n",
       "      <td>princeton.edu</td>\n",
       "      <td>princeton.edu</td>\n",
       "    </tr>\n",
       "    <tr>\n",
       "      <th>26</th>\n",
       "      <td>0</td>\n",
       "      <td>-388674837</td>\n",
       "      <td>3778318194027651</td>\n",
       "      <td>6e690347-1eef-428b-8901-bb8f61030139</td>\n",
       "      <td>31</td>\n",
       "      <td>26</td>\n",
       "      <td>1</td>\n",
       "      <td>1</td>\n",
       "      <td>0</td>\n",
       "      <td>https://citp.princeton.edu/</td>\n",
       "      <td>...</td>\n",
       "      <td></td>\n",
       "      <td>CanvasRenderingContext2D.fillText</td>\n",
       "      <td>call</td>\n",
       "      <td></td>\n",
       "      <td>[\"👨🏾‍🤝‍👨🏼\",0,0]</td>\n",
       "      <td>2019-07-15T05:09:29.748Z</td>\n",
       "      <td>-2022130726</td>\n",
       "      <td>princeton.edu</td>\n",
       "      <td>princeton.edu</td>\n",
       "      <td>princeton.edu</td>\n",
       "    </tr>\n",
       "    <tr>\n",
       "      <th>30</th>\n",
       "      <td>0</td>\n",
       "      <td>-388674837</td>\n",
       "      <td>3778318194027651</td>\n",
       "      <td>6e690347-1eef-428b-8901-bb8f61030139</td>\n",
       "      <td>35</td>\n",
       "      <td>30</td>\n",
       "      <td>1</td>\n",
       "      <td>1</td>\n",
       "      <td>0</td>\n",
       "      <td>https://citp.princeton.edu/</td>\n",
       "      <td>...</td>\n",
       "      <td></td>\n",
       "      <td>CanvasRenderingContext2D.fillText</td>\n",
       "      <td>call</td>\n",
       "      <td></td>\n",
       "      <td>[\"👨🏾​🤝​👨🏼\",0,0]</td>\n",
       "      <td>2019-07-15T05:09:29.751Z</td>\n",
       "      <td>-2022130726</td>\n",
       "      <td>princeton.edu</td>\n",
       "      <td>princeton.edu</td>\n",
       "      <td>princeton.edu</td>\n",
       "    </tr>\n",
       "  </tbody>\n",
       "</table>\n",
       "<p>10 rows × 26 columns</p>\n",
       "</div>"
      ],
      "text/plain": [
       "    incognito   crawl_id          visit_id  \\\n",
       "4           0 -388674837  3778318194027651   \n",
       "5           0 -388674837  3778318194027651   \n",
       "8           0 -388674837  3778318194027651   \n",
       "12          0 -388674837  3778318194027651   \n",
       "16          0 -388674837  3778318194027651   \n",
       "20          0 -388674837  3778318194027651   \n",
       "22          0 -388674837  3778318194027651   \n",
       "23          0 -388674837  3778318194027651   \n",
       "26          0 -388674837  3778318194027651   \n",
       "30          0 -388674837  3778318194027651   \n",
       "\n",
       "                  extension_session_uuid  event_ordinal  \\\n",
       "4   6e690347-1eef-428b-8901-bb8f61030139              9   \n",
       "5   6e690347-1eef-428b-8901-bb8f61030139             10   \n",
       "8   6e690347-1eef-428b-8901-bb8f61030139             13   \n",
       "12  6e690347-1eef-428b-8901-bb8f61030139             17   \n",
       "16  6e690347-1eef-428b-8901-bb8f61030139             21   \n",
       "20  6e690347-1eef-428b-8901-bb8f61030139             25   \n",
       "22  6e690347-1eef-428b-8901-bb8f61030139             27   \n",
       "23  6e690347-1eef-428b-8901-bb8f61030139             28   \n",
       "26  6e690347-1eef-428b-8901-bb8f61030139             31   \n",
       "30  6e690347-1eef-428b-8901-bb8f61030139             35   \n",
       "\n",
       "    page_scoped_event_ordinal  window_id  tab_id  frame_id  \\\n",
       "4                           4          1       1         0   \n",
       "5                           5          1       1         0   \n",
       "8                           8          1       1         0   \n",
       "12                         12          1       1         0   \n",
       "16                         16          1       1         0   \n",
       "20                         20          1       1         0   \n",
       "22                         22          1       1         0   \n",
       "23                         23          1       1         0   \n",
       "26                         26          1       1         0   \n",
       "30                         30          1       1         0   \n",
       "\n",
       "                     script_url  ... call_stack  \\\n",
       "4   https://citp.princeton.edu/  ...              \n",
       "5   https://citp.princeton.edu/  ...              \n",
       "8   https://citp.princeton.edu/  ...              \n",
       "12  https://citp.princeton.edu/  ...              \n",
       "16  https://citp.princeton.edu/  ...              \n",
       "20  https://citp.princeton.edu/  ...              \n",
       "22  https://citp.princeton.edu/  ...              \n",
       "23  https://citp.princeton.edu/  ...              \n",
       "26  https://citp.princeton.edu/  ...              \n",
       "30  https://citp.princeton.edu/  ...              \n",
       "\n",
       "                                   symbol operation           value  \\\n",
       "4   CanvasRenderingContext2D.textBaseline       set             top   \n",
       "5           CanvasRenderingContext2D.font       set  600 32px Arial   \n",
       "8       CanvasRenderingContext2D.fillText      call                   \n",
       "12      CanvasRenderingContext2D.fillText      call                   \n",
       "16      CanvasRenderingContext2D.fillText      call                   \n",
       "20      CanvasRenderingContext2D.fillText      call                   \n",
       "22  CanvasRenderingContext2D.textBaseline       set             top   \n",
       "23          CanvasRenderingContext2D.font       set  600 32px Arial   \n",
       "26      CanvasRenderingContext2D.fillText      call                   \n",
       "30      CanvasRenderingContext2D.fillText      call                   \n",
       "\n",
       "                arguments                time_stamp instance_id  \\\n",
       "4                    None  2019-07-15T05:09:29.729Z -2022130726   \n",
       "5                    None  2019-07-15T05:09:29.730Z -2022130726   \n",
       "8              [\"🇺🇳\",0,0]  2019-07-15T05:09:29.733Z -2022130726   \n",
       "12            [\"🇺​🇳\",0,0]  2019-07-15T05:09:29.739Z -2022130726   \n",
       "16        [\"🏴󠁧󠁢󠁥󠁮󠁧󠁿\",0,0]  2019-07-15T05:09:29.741Z -2022130726   \n",
       "20  [\"🏴​󠁧​󠁢​󠁥​󠁮​󠁧​󠁿\",0,0]  2019-07-15T05:09:29.742Z -2022130726   \n",
       "22                   None  2019-07-15T05:09:29.745Z -2022130726   \n",
       "23                   None  2019-07-15T05:09:29.746Z -2022130726   \n",
       "26        [\"👨🏾‍🤝‍👨🏼\",0,0]  2019-07-15T05:09:29.748Z -2022130726   \n",
       "30        [\"👨🏾​🤝​👨🏼\",0,0]  2019-07-15T05:09:29.751Z -2022130726   \n",
       "\n",
       "       script_ps1        top_ps1   document_ps1  \n",
       "4   princeton.edu  princeton.edu  princeton.edu  \n",
       "5   princeton.edu  princeton.edu  princeton.edu  \n",
       "8   princeton.edu  princeton.edu  princeton.edu  \n",
       "12  princeton.edu  princeton.edu  princeton.edu  \n",
       "16  princeton.edu  princeton.edu  princeton.edu  \n",
       "20  princeton.edu  princeton.edu  princeton.edu  \n",
       "22  princeton.edu  princeton.edu  princeton.edu  \n",
       "23  princeton.edu  princeton.edu  princeton.edu  \n",
       "26  princeton.edu  princeton.edu  princeton.edu  \n",
       "30  princeton.edu  princeton.edu  princeton.edu  \n",
       "\n",
       "[10 rows x 26 columns]"
      ]
     },
     "execution_count": 18,
     "metadata": {},
     "output_type": "execute_result"
    }
   ],
   "source": [
    "# Grab all of the canvas calls\n",
    "js[\n",
    "    js.symbol.str.startswith('CanvasRenderingContext2D')\n",
    "]"
   ]
  },
  {
   "cell_type": "code",
   "execution_count": 19,
   "metadata": {
    "scrolled": true
   },
   "outputs": [
    {
     "data": {
      "text/plain": [
       "Series([], Name: top_ps1, dtype: int64)"
      ]
     },
     "execution_count": 19,
     "metadata": {},
     "output_type": "execute_result"
    }
   ],
   "source": [
    "js[\n",
    "    (js.symbol == 'CanvasRenderingContext2D.measureText') &\n",
    "    (js.script_ps1 != js.top_ps1)\n",
    "].groupby('script_ps1').top_ps1.count().sort_values(ascending=False)"
   ]
  },
  {
   "cell_type": "code",
   "execution_count": 20,
   "metadata": {},
   "outputs": [
    {
     "data": {
      "text/plain": [
       "array([], dtype=object)"
      ]
     },
     "execution_count": 20,
     "metadata": {},
     "output_type": "execute_result"
    }
   ],
   "source": [
    "js[\n",
    "    (js.symbol == 'CanvasRenderingContext2D.measureText') &\n",
    "    (js.script_ps1 != js.top_ps1) & \n",
    "    (js.script_ps1 == 'admicro.vn')\n",
    "].arguments.apply(lambda x: json.loads(x)[\"0\"]).unique()"
   ]
  },
  {
   "cell_type": "code",
   "execution_count": 21,
   "metadata": {},
   "outputs": [
    {
     "data": {
      "text/plain": [
       "array([], dtype=object)"
      ]
     },
     "execution_count": 21,
     "metadata": {},
     "output_type": "execute_result"
    }
   ],
   "source": [
    "js[\n",
    "    (js.symbol == 'CanvasRenderingContext2D.font') &\n",
    "    (js.script_ps1 != js.top_ps1) & \n",
    "    (js.script_ps1 == 'admicro.vn')\n",
    "].value.apply(lambda x: re.match(font_shorthand, x).group(6)).unique()"
   ]
  }
 ],
 "metadata": {
  "kernelspec": {
   "display_name": "openwpm-crawler",
   "language": "python",
   "name": "openwpm-crawler"
  },
  "language_info": {
   "codemirror_mode": {
    "name": "ipython",
    "version": 3
   },
   "file_extension": ".py",
   "mimetype": "text/x-python",
   "name": "python",
   "nbconvert_exporter": "python",
   "pygments_lexer": "ipython3",
   "version": "3.6.8"
  }
 },
 "nbformat": 4,
 "nbformat_minor": 2
}
